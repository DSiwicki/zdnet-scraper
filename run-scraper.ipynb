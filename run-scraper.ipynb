{
 "cells": [
  {
   "cell_type": "code",
   "execution_count": 1,
   "metadata": {},
   "outputs": [],
   "source": [
    "import pandas as pd\n",
    "\n",
    "from zdnet_scraper import *"
   ]
  },
  {
   "cell_type": "code",
   "execution_count": null,
   "metadata": {},
   "outputs": [],
   "source": []
  },
  {
   "cell_type": "code",
   "execution_count": 2,
   "metadata": {},
   "outputs": [],
   "source": [
    "driver = full_driver()"
   ]
  },
  {
   "cell_type": "code",
   "execution_count": null,
   "metadata": {},
   "outputs": [],
   "source": []
  },
  {
   "cell_type": "code",
   "execution_count": 3,
   "metadata": {
    "scrolled": true
   },
   "outputs": [
    {
     "name": "stdout",
     "output_type": "stream",
     "text": [
      "['/topic/?filter=alphaAC', '/topic/?filter=alphaDG', '/topic/?filter=alphaHM', '/topic/?filter=alphaNR', '/topic/?filter=alphaSZ', '/topic/?filter=alpha09']\n",
      "https://www.zdnet.com/topic/?filter=alphaAC\n",
      "https://www.zdnet.com/topic/?filter=alphaDG\n",
      "https://www.zdnet.com/topic/?filter=alphaHM\n",
      "https://www.zdnet.com/topic/?filter=alphaNR\n",
      "https://www.zdnet.com/topic/?filter=alphaSZ\n",
      "https://www.zdnet.com/topic/?filter=alpha09\n"
     ]
    }
   ],
   "source": [
    "topics_dict = get_topics(driver)"
   ]
  },
  {
   "cell_type": "code",
   "execution_count": 4,
   "metadata": {
    "scrolled": true
   },
   "outputs": [
    {
     "data": {
      "text/plain": [
       "{'AAPT': '/topic/tpg/',\n",
       " 'After Hours': '/topic/after-hours/',\n",
       " 'Amazon': '/topic/amazon/',\n",
       " 'Apple': '/topic/apple/',\n",
       " 'ARM': '/topic/arm/',\n",
       " 'Artificial Intelligence': '/topic/artificial-intelligence/',\n",
       " 'Asean': '/topic/asean/',\n",
       " 'AUSCERT': '/topic/auscert/',\n",
       " 'Australia': '/topic/australia/',\n",
       " 'Banking': '/topic/banking/',\n",
       " 'Data Centers': '/topic/data-centers/',\n",
       " 'Data Management': '/topic/data-management/',\n",
       " 'Dell': '/topic/dell/',\n",
       " 'Developer': '/topic/developer/',\n",
       " 'Digital Health and Wellness': '/topic/health/',\n",
       " 'Digital Transformation': '/topic/digital-transformation/',\n",
       " 'E-Commerce': '/topic/e-commerce/',\n",
       " 'Edge Computing': '/topic/edge-computing/',\n",
       " 'EMC': '/topic/emc/',\n",
       " 'Enterprise Software': '/topic/enterprise-software/',\n",
       " 'Hardware': '/topic/hardware/',\n",
       " 'Hewlett Packard Enterprise': '/topic/hewlett-packard-enterprise/',\n",
       " 'Holiday Gifts': '/topic/gifts/',\n",
       " 'Hong Kong': '/topic/hong-kong/',\n",
       " 'HP Inc.': '/topic/hp-inc/',\n",
       " 'Huawei': '/topic/huawei/',\n",
       " 'IBM': '/topic/ibm/',\n",
       " 'India': '/topic/india/',\n",
       " 'Infographic': '/topic/infographic/',\n",
       " 'Innovation': '/topic/innovation/',\n",
       " 'NBN': '/topic/nbn/',\n",
       " 'Networking': '/topic/networking/',\n",
       " 'New Zealand': '/topic/new-zealand/',\n",
       " 'NextGen CIO': '/topic/nextgen-cio/',\n",
       " 'Open Source': '/topic/open-source/',\n",
       " 'Oracle': '/topic/oracle/',\n",
       " 'PCs': '/topic/pcs/',\n",
       " 'Printers': '/topic/printers/',\n",
       " 'Processors': '/topic/processors/',\n",
       " 'Productivity': '/topic/productivity/',\n",
       " 'Salesforce.com': '/topic/salesforce-com/',\n",
       " 'Samsung': '/topic/samsung/',\n",
       " 'SAP': '/topic/sap/',\n",
       " 'Security': '/topic/security/',\n",
       " 'Servers': '/topic/servers/',\n",
       " 'Singapore': '/topic/singapore/',\n",
       " 'Smart Cities': '/topic/smart-cities/',\n",
       " 'Smart Office': '/topic/smart-office/',\n",
       " 'Smartphones': '/topic/smartphones/',\n",
       " 'SMBs': '/topic/smbs/',\n",
       " '3D Printing': '/topic/3d-printing/',\n",
       " '5G': '/topic/5g/'}"
      ]
     },
     "execution_count": 4,
     "metadata": {},
     "output_type": "execute_result"
    }
   ],
   "source": [
    "topics_dict"
   ]
  },
  {
   "cell_type": "code",
   "execution_count": null,
   "metadata": {},
   "outputs": [],
   "source": []
  },
  {
   "cell_type": "code",
   "execution_count": 5,
   "metadata": {},
   "outputs": [],
   "source": [
    "delta = '10 days'\n",
    "topic = '/topic/apple/'"
   ]
  },
  {
   "cell_type": "code",
   "execution_count": 6,
   "metadata": {
    "scrolled": true
   },
   "outputs": [
    {
     "name": "stdout",
     "output_type": "stream",
     "text": [
      "Scraping articles since: 2020-11-30 06:02:37\n",
      "https://www.zdnet.com/topic/apple/\n",
      "https://www.zdnet.com/topic/apple/2/\n",
      "Time border exceeded\n",
      "30\n"
     ]
    }
   ],
   "source": [
    "links = get_articles_links(topic, pd.Timedelta(delta), driver)"
   ]
  },
  {
   "cell_type": "code",
   "execution_count": 7,
   "metadata": {},
   "outputs": [
    {
     "data": {
      "text/html": [
       "<div>\n",
       "<style scoped>\n",
       "    .dataframe tbody tr th:only-of-type {\n",
       "        vertical-align: middle;\n",
       "    }\n",
       "\n",
       "    .dataframe tbody tr th {\n",
       "        vertical-align: top;\n",
       "    }\n",
       "\n",
       "    .dataframe thead th {\n",
       "        text-align: right;\n",
       "    }\n",
       "</style>\n",
       "<table border=\"1\" class=\"dataframe\">\n",
       "  <thead>\n",
       "    <tr style=\"text-align: right;\">\n",
       "      <th></th>\n",
       "      <th>title</th>\n",
       "      <th>url</th>\n",
       "      <th>author</th>\n",
       "      <th>publication_date</th>\n",
       "      <th>description</th>\n",
       "    </tr>\n",
       "  </thead>\n",
       "  <tbody>\n",
       "    <tr>\n",
       "      <th>0</th>\n",
       "      <td>VS Code: New C++ language extension brings Mic...</td>\n",
       "      <td>/article/vs-code-new-c-language-extension-brin...</td>\n",
       "      <td>Liam Tung</td>\n",
       "      <td>2020-12-09 14:41:44</td>\n",
       "      <td>Microsoft forges ahead with support for Arm-ba...</td>\n",
       "    </tr>\n",
       "    <tr>\n",
       "      <th>1</th>\n",
       "      <td>Revealed: Apple's next M-series chips aim to s...</td>\n",
       "      <td>/article/revealed-apples-next-m-series-chips-a...</td>\n",
       "      <td>Liam Tung</td>\n",
       "      <td>2020-12-09 13:38:00</td>\n",
       "      <td>Apple's next M-series Arm-based chips could ha...</td>\n",
       "    </tr>\n",
       "    <tr>\n",
       "      <th>2</th>\n",
       "      <td>Will 2021 be the year Apple fans get their mos...</td>\n",
       "      <td>/article/will-2021-be-the-year-apple-fans-get-...</td>\n",
       "      <td>Adrian Kingsley-Hughes</td>\n",
       "      <td>2020-12-09 11:46:00</td>\n",
       "      <td>Dreams can come true. And Apple's new M1 chip ...</td>\n",
       "    </tr>\n",
       "    <tr>\n",
       "      <th>3</th>\n",
       "      <td>NZ adopts Google/Apple COVID-19 exposure notif...</td>\n",
       "      <td>/article/nz-adopts-googleapple-covid-19-exposu...</td>\n",
       "      <td>Asha Barbaschow</td>\n",
       "      <td>2020-12-08 23:49:54</td>\n",
       "      <td>Adding Bluetooth capability to the NZ COVID Tr...</td>\n",
       "    </tr>\n",
       "    <tr>\n",
       "      <th>4</th>\n",
       "      <td>What is Apple One and how to subscribe? Plans,...</td>\n",
       "      <td>/article/apple-one-plans-pricing-cost-features...</td>\n",
       "      <td>Elizabeth Mauder</td>\n",
       "      <td>2020-12-08 19:03:00</td>\n",
       "      <td>At Apple's Time Flies event back in September,...</td>\n",
       "    </tr>\n",
       "  </tbody>\n",
       "</table>\n",
       "</div>"
      ],
      "text/plain": [
       "                                               title  \\\n",
       "0  VS Code: New C++ language extension brings Mic...   \n",
       "1  Revealed: Apple's next M-series chips aim to s...   \n",
       "2  Will 2021 be the year Apple fans get their mos...   \n",
       "3  NZ adopts Google/Apple COVID-19 exposure notif...   \n",
       "4  What is Apple One and how to subscribe? Plans,...   \n",
       "\n",
       "                                                 url                  author  \\\n",
       "0  /article/vs-code-new-c-language-extension-brin...               Liam Tung   \n",
       "1  /article/revealed-apples-next-m-series-chips-a...               Liam Tung   \n",
       "2  /article/will-2021-be-the-year-apple-fans-get-...  Adrian Kingsley-Hughes   \n",
       "3  /article/nz-adopts-googleapple-covid-19-exposu...         Asha Barbaschow   \n",
       "4  /article/apple-one-plans-pricing-cost-features...        Elizabeth Mauder   \n",
       "\n",
       "      publication_date                                        description  \n",
       "0  2020-12-09 14:41:44  Microsoft forges ahead with support for Arm-ba...  \n",
       "1  2020-12-09 13:38:00  Apple's next M-series Arm-based chips could ha...  \n",
       "2  2020-12-09 11:46:00  Dreams can come true. And Apple's new M1 chip ...  \n",
       "3  2020-12-08 23:49:54  Adding Bluetooth capability to the NZ COVID Tr...  \n",
       "4  2020-12-08 19:03:00  At Apple's Time Flies event back in September,...  "
      ]
     },
     "execution_count": 7,
     "metadata": {},
     "output_type": "execute_result"
    }
   ],
   "source": [
    "links_df = pd.DataFrame(links)\n",
    "links_df.columns = ['title', 'url', 'author', 'publication_date', 'description']\n",
    "links_df.head()"
   ]
  },
  {
   "cell_type": "code",
   "execution_count": null,
   "metadata": {},
   "outputs": [],
   "source": []
  },
  {
   "cell_type": "code",
   "execution_count": 8,
   "metadata": {
    "scrolled": true
   },
   "outputs": [
    {
     "name": "stdout",
     "output_type": "stream",
     "text": [
      "https://www.zdnet.com/article/vs-code-new-c-language-extension-brings-microsofts-code-completion-to-raspberry-pi-4/\n",
      "https://www.zdnet.com/article/revealed-apples-next-m-series-chips-aim-to-shake-the-microsoft-windows-intel-alliance/\n",
      "https://www.zdnet.com/article/will-2021-be-the-year-apple-fans-get-their-most-wanted-product/\n",
      "https://www.zdnet.com/article/nz-adopts-googleapple-covid-19-exposure-notification-tech-for-contact-tracing/\n",
      "https://www.zdnet.com/article/apple-one-plans-pricing-cost-features-release-date-how-to-sign-up-join/\n",
      "https://www.zdnet.com/article/apple-announces-airpods-max-over-the-ear-headphones-that-launch-dec-15-for-549/\n",
      "https://www.zdnet.com/article/programming-language-python-first-version-released-to-run-natively-on-apple-m1/\n",
      "https://www.zdnet.com/article/whos-winning-the-race-to-replace-nand-flash/\n",
      "https://www.zdnet.com/article/holiday-gift-guide-2020/\n",
      "https://www.zdnet.com/article/apple-offers-free-iphone-11-repair-for-touch-display-module-problem/\n",
      "https://www.zdnet.com/article/apple-might-fix-your-broken-iphone-mac-or-other-device-for-free-even-if-its-out-of-warranty-2020-edition/\n",
      "https://www.zdnet.com/article/still-having-iphone-problems-help-is-on-the-way/\n",
      "https://www.zdnet.com/article/too-many-browser-tabs-this-favorite-extension-is-the-perfect-solution/\n",
      "https://www.zdnet.com/article/jason-squareds-top-5-tech-of-2020/\n",
      "https://www.zdnet.com/article/kotlin-language-maker-jetbrains-windows-10-and-m1-macos-get-android-jetpack-compose/\n",
      "https://www.zdnet.com/article/apple-m1-is-the-boost-the-windows-ecosystem-needed-qualcomm/\n",
      "https://www.zdnet.com/article/iphone-battery-bad-here-are-three-of-the-biggest-ios-14-2-battery-hogs-along-with-some-solutions/\n",
      "https://www.zdnet.com/article/apple-wants-you-to-prepare-for-a-lonely-miserable-christmas/\n",
      "https://www.zdnet.com/article/samsung-might-ditch-premium-galaxy-note-phone-for-2021-over-falling-high-end-demand/\n",
      "https://www.zdnet.com/article/aws-offers-mac-ec2-instances-here-what-it-means-for-apple/\n",
      "https://www.zdnet.com/article/aws-engineer-puts-windows-10-on-arm-on-apple-mac-m1-and-it-thrashes-surface-pro-x/\n",
      "https://www.zdnet.com/article/cyber-monday-phone-deals-2020-cyber-week-smartphones-cell-mobile-sales-ad-coupon/\n",
      "https://www.zdnet.com/article/tablet-cyber-monday-deals-2020-cyber-week-sales-ipad-pro-ad-coupon/\n",
      "https://www.zdnet.com/article/laptops-cyber-monday-deals-2020-cyber-week-sale-ad-coupon/\n",
      "https://www.zdnet.com/article/the-m1-macs-are-no-ipad-killers/\n",
      "https://www.zdnet.com/article/how-john-hancock-life-insurance-gamifies-wearables-to-bolster-longevity/\n",
      "https://www.zdnet.com/article/get-20-off-parallels-desktop-16-for-mac/\n",
      "https://www.zdnet.com/article/best-streaming-device-2020-roku-amazon-fire-tv-apple-tv-chromecast/\n",
      "https://www.zdnet.com/article/best-tablets-2020-ipad-air-surface-go-2-fire-hd-10-apple-android/\n",
      "https://www.zdnet.com/article/the-new-m1-macbook-air-vs-the-ipad-pro/\n"
     ]
    }
   ],
   "source": [
    "articles = get_articles(list(links_df.url), driver)"
   ]
  },
  {
   "cell_type": "code",
   "execution_count": 9,
   "metadata": {},
   "outputs": [
    {
     "data": {
      "text/html": [
       "<div>\n",
       "<style scoped>\n",
       "    .dataframe tbody tr th:only-of-type {\n",
       "        vertical-align: middle;\n",
       "    }\n",
       "\n",
       "    .dataframe tbody tr th {\n",
       "        vertical-align: top;\n",
       "    }\n",
       "\n",
       "    .dataframe thead th {\n",
       "        text-align: right;\n",
       "    }\n",
       "</style>\n",
       "<table border=\"1\" class=\"dataframe\">\n",
       "  <thead>\n",
       "    <tr style=\"text-align: right;\">\n",
       "      <th></th>\n",
       "      <th>url</th>\n",
       "      <th>title</th>\n",
       "      <th>description</th>\n",
       "      <th>author</th>\n",
       "      <th>date</th>\n",
       "      <th>topic</th>\n",
       "      <th>text</th>\n",
       "    </tr>\n",
       "  </thead>\n",
       "  <tbody>\n",
       "    <tr>\n",
       "      <th>0</th>\n",
       "      <td>https://www.zdnet.com/article/vs-code-new-c-la...</td>\n",
       "      <td>VS Code: New C++ language extension brings Mic...</td>\n",
       "      <td>Microsoft forges ahead with support for Arm-ba...</td>\n",
       "      <td>Liam Tung</td>\n",
       "      <td>2020-12-09 14:41:44</td>\n",
       "      <td>Enterprise Software</td>\n",
       "      <td>Microsoft has released a new version of the C+...</td>\n",
       "    </tr>\n",
       "    <tr>\n",
       "      <th>1</th>\n",
       "      <td>https://www.zdnet.com/article/revealed-apples-...</td>\n",
       "      <td>Revealed: Apple's next M-series chips aim to s...</td>\n",
       "      <td>Apple's next M-series Arm-based chips could ha...</td>\n",
       "      <td>Liam Tung</td>\n",
       "      <td>2020-12-09 13:38:00</td>\n",
       "      <td>Hardware</td>\n",
       "      <td>Apple's chip designers are preparing a new set...</td>\n",
       "    </tr>\n",
       "    <tr>\n",
       "      <th>2</th>\n",
       "      <td>https://www.zdnet.com/article/will-2021-be-the...</td>\n",
       "      <td>Will 2021 be the year Apple fans get their mos...</td>\n",
       "      <td>Dreams can come true. And Apple's new M1 chip ...</td>\n",
       "      <td>Adrian Kingsley-Hughes</td>\n",
       "      <td>2020-12-09 11:46:00</td>\n",
       "      <td>Hardware 2.0</td>\n",
       "      <td>Apple fans are a greedy bunch. Not content wit...</td>\n",
       "    </tr>\n",
       "    <tr>\n",
       "      <th>3</th>\n",
       "      <td>https://www.zdnet.com/article/nz-adopts-google...</td>\n",
       "      <td>NZ adopts Google/Apple COVID-19 exposure notif...</td>\n",
       "      <td>Adding Bluetooth capability to the NZ COVID Tr...</td>\n",
       "      <td>Asha Barbaschow</td>\n",
       "      <td>2020-12-08 23:49:54</td>\n",
       "      <td>Security</td>\n",
       "      <td>The New Zealand government has done what the A...</td>\n",
       "    </tr>\n",
       "    <tr>\n",
       "      <th>4</th>\n",
       "      <td>https://www.zdnet.com/article/apple-one-plans-...</td>\n",
       "      <td>What is Apple One, how to subscribe, and how m...</td>\n",
       "      <td>At Apple's Time Flies event back in September,...</td>\n",
       "      <td>Elizabeth Mauder</td>\n",
       "      <td>2020-12-08 19:03:00</td>\n",
       "      <td>Apple</td>\n",
       "      <td>Apple's long-awaited services bundle, which br...</td>\n",
       "    </tr>\n",
       "  </tbody>\n",
       "</table>\n",
       "</div>"
      ],
      "text/plain": [
       "                                                 url  \\\n",
       "0  https://www.zdnet.com/article/vs-code-new-c-la...   \n",
       "1  https://www.zdnet.com/article/revealed-apples-...   \n",
       "2  https://www.zdnet.com/article/will-2021-be-the...   \n",
       "3  https://www.zdnet.com/article/nz-adopts-google...   \n",
       "4  https://www.zdnet.com/article/apple-one-plans-...   \n",
       "\n",
       "                                               title  \\\n",
       "0  VS Code: New C++ language extension brings Mic...   \n",
       "1  Revealed: Apple's next M-series chips aim to s...   \n",
       "2  Will 2021 be the year Apple fans get their mos...   \n",
       "3  NZ adopts Google/Apple COVID-19 exposure notif...   \n",
       "4  What is Apple One, how to subscribe, and how m...   \n",
       "\n",
       "                                         description                  author  \\\n",
       "0  Microsoft forges ahead with support for Arm-ba...               Liam Tung   \n",
       "1  Apple's next M-series Arm-based chips could ha...               Liam Tung   \n",
       "2  Dreams can come true. And Apple's new M1 chip ...  Adrian Kingsley-Hughes   \n",
       "3  Adding Bluetooth capability to the NZ COVID Tr...         Asha Barbaschow   \n",
       "4  At Apple's Time Flies event back in September,...        Elizabeth Mauder   \n",
       "\n",
       "                  date                topic  \\\n",
       "0  2020-12-09 14:41:44  Enterprise Software   \n",
       "1  2020-12-09 13:38:00             Hardware   \n",
       "2  2020-12-09 11:46:00         Hardware 2.0   \n",
       "3  2020-12-08 23:49:54             Security   \n",
       "4  2020-12-08 19:03:00                Apple   \n",
       "\n",
       "                                                text  \n",
       "0  Microsoft has released a new version of the C+...  \n",
       "1  Apple's chip designers are preparing a new set...  \n",
       "2  Apple fans are a greedy bunch. Not content wit...  \n",
       "3  The New Zealand government has done what the A...  \n",
       "4  Apple's long-awaited services bundle, which br...  "
      ]
     },
     "execution_count": 9,
     "metadata": {},
     "output_type": "execute_result"
    }
   ],
   "source": [
    "df = pd.DataFrame(articles)\n",
    "df.columns = ['url', 'title', 'description', 'author', 'date', 'topic', 'text']\n",
    "df.head()"
   ]
  },
  {
   "cell_type": "code",
   "execution_count": null,
   "metadata": {},
   "outputs": [],
   "source": []
  },
  {
   "cell_type": "code",
   "execution_count": 10,
   "metadata": {},
   "outputs": [],
   "source": [
    "df.to_csv('resp/scraped-data-' + str(datetime.now())[:19] + '.csv')"
   ]
  },
  {
   "cell_type": "code",
   "execution_count": null,
   "metadata": {},
   "outputs": [],
   "source": []
  }
 ],
 "metadata": {
  "kernelspec": {
   "display_name": "Python 3",
   "language": "python",
   "name": "python3"
  },
  "language_info": {
   "codemirror_mode": {
    "name": "ipython",
    "version": 3
   },
   "file_extension": ".py",
   "mimetype": "text/x-python",
   "name": "python",
   "nbconvert_exporter": "python",
   "pygments_lexer": "ipython3",
   "version": "3.7.2"
  }
 },
 "nbformat": 4,
 "nbformat_minor": 2
}
